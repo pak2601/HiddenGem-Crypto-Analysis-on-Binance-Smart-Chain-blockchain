{
 "cells": [
  {
   "cell_type": "code",
   "execution_count": 16,
   "metadata": {},
   "outputs": [],
   "source": [
    "from dune_client.types import QueryParameter\n",
    "from dune_client.client import DuneClient\n",
    "from dune_client.query import QueryBase\n",
    "import pandas as pd\n",
    "import os\n",
    "import matplotlib.pyplot as plt\n",
    "import seaborn as sns"
   ]
  },
  {
   "cell_type": "markdown",
   "metadata": {},
   "source": [
    "## 1. ETL:"
   ]
  },
  {
   "cell_type": "code",
   "execution_count": 5,
   "metadata": {},
   "outputs": [],
   "source": [
    "#extract data via Dune API\n",
    "def extract_from_dune(api_key, query_id):\n",
    "    dune = DuneClient(api_key)\n",
    "    query = QueryBase(query_id = query_id)\n",
    "    query_result = dune.run_query_dataframe(query=query)\n",
    "    return query_result"
   ]
  },
  {
   "cell_type": "code",
   "execution_count": 4,
   "metadata": {},
   "outputs": [],
   "source": [
    "#get data from csv file\n",
    "def extract_from_csv(file_path):\n",
    "    df = pd.read_csv(file_path)\n",
    "    return df"
   ]
  },
  {
   "cell_type": "code",
   "execution_count": 3,
   "metadata": {},
   "outputs": [],
   "source": [
    "#load data to csv file\n",
    "def load(file_path, data_to_load):\n",
    "    data_to_load.to_csv(file_path)"
   ]
  },
  {
   "cell_type": "code",
   "execution_count": 18,
   "metadata": {},
   "outputs": [],
   "source": [
    "#pre-process the data\n",
    "def transform(myDf):\n",
    "    #drop unwanted column\n",
    "    if 'Unnamed: 0' in myDf.columns:\n",
    "        myDf = myDf.drop(columns=['Unnamed: 0'])\n",
    "    #convert day to datetime type\n",
    "    myDf['day'] = pd.to_datetime(myDf['day'])\n",
    "    myDf = myDf.sort_values(['token', 'day'])\n",
    "    #sort data by day\n",
    "    myDf['day'] = myDf['day'].sort_values()\n",
    "    #handle missing data\n",
    "    myDf = myDf.fillna(0)\n",
    "    #filter out \"scam\" or \"malicious\" coins\n",
    "    return myDf"
   ]
  },
  {
   "cell_type": "code",
   "execution_count": 11,
   "metadata": {},
   "outputs": [],
   "source": [
    "#create monthly stats dataframe\n",
    "def aggregate_to_monthly(df):\n",
    "\n",
    "    df['day'] = pd.to_datetime(df['day'])\n",
    "    \n",
    "    df['month'] = df['day'].dt.to_period('M')\n",
    "    \n",
    "    # Aggregate by token, contract_address, and month\n",
    "    monthly_df = df.groupby(['token', 'contract_address', 'month']).agg({\n",
    "        'trading_volume': 'mean',\n",
    "        'trading_pairs': 'mean',           \n",
    "        'total_traders': 'mean',         \n",
    "        'avg_trading_size': 'mean',      \n",
    "        'daily_price': 'mean'              \n",
    "    }).reset_index()\n",
    "    \n",
    "    # Rename columns for readability\n",
    "    monthly_df = monthly_df.rename(columns={\n",
    "        'trading_volume': 'avg_monthly_trading_volume',\n",
    "        'trading_pairs': 'avg_trading_pairs',\n",
    "        'total_traders': 'avg_total_traders',\n",
    "        'avg_trading_size': 'avg_monthly_trading_size',\n",
    "        'daily_price': 'avg_monthly_price'\n",
    "    })\n",
    "    \n",
    "    return monthly_df"
   ]
  },
  {
   "cell_type": "code",
   "execution_count": 13,
   "metadata": {},
   "outputs": [],
   "source": [
    "#define unqualified token\n",
    "def unqualified_token(df, vol_threshold, trader_threshold, trading_pair_threshold):\n",
    "    un_df = df[(df['avg_monthly_trading_volume'] < vol_threshold) | \n",
    "               (df['avg_total_traders'] < trader_threshold) | \n",
    "               (df['avg_trading_pairs'] < trading_pair_threshold)]\n",
    "    unqualified_list = un_df['token'].unique().tolist()\n",
    "    return unqualified_list"
   ]
  },
  {
   "cell_type": "code",
   "execution_count": 17,
   "metadata": {},
   "outputs": [],
   "source": [
    "#create correlation heatmap between numeric features\n",
    "def pairwise_corr(df):\n",
    "    numeric_df = df.select_dtypes(include=['number'])\n",
    "    corr = numeric_df.corr(method='pearson')\n",
    "    plt.figure(figsize=(12,9))\n",
    "    sns.heatmap(corr, annot=True, cmap='coolwarm')\n",
    "    plt.title('Features heatmap correlation')\n",
    "    plt.show()"
   ]
  },
  {
   "cell_type": "code",
   "execution_count": null,
   "metadata": {},
   "outputs": [],
   "source": [
    "#create pairwise plots:\n",
    "def pariwise_plot(df):\n",
    "    numeric_df = df.select_dtypes(include=['number'])\n",
    "    "
   ]
  }
 ],
 "metadata": {
  "kernelspec": {
   "display_name": "base",
   "language": "python",
   "name": "python3"
  },
  "language_info": {
   "codemirror_mode": {
    "name": "ipython",
    "version": 3
   },
   "file_extension": ".py",
   "mimetype": "text/x-python",
   "name": "python",
   "nbconvert_exporter": "python",
   "pygments_lexer": "ipython3",
   "version": "3.11.7"
  }
 },
 "nbformat": 4,
 "nbformat_minor": 2
}
